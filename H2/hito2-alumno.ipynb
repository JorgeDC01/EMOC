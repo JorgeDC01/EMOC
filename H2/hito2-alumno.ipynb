{
 "cells": [
  {
   "cell_type": "code",
   "execution_count": null,
   "metadata": {},
   "outputs": [],
   "source": [
    "import numpy as np\n",
    "import random\n",
    "from pymoo.core.problem import Problem\n",
    "from pymoo.problems import get_problem\n",
    "from pymoo.util.plotting import plot\n",
    "from pymoo.util.ref_dirs import get_reference_directions\n",
    "from pymoo.visualization.scatter import Scatter\n",
    "\n",
    "from pymoo.algorithms.moo.nsga2 import NSGA2\n",
    "from pymoo.optimize import minimize\n"
   ]
  },
  {
   "cell_type": "code",
   "execution_count": null,
   "metadata": {},
   "outputs": [],
   "source": [
    "problem = get_problem(\"zdt1\")\n",
    "plot(problem.pareto_front(), no_fill=True)\n"
   ]
  },
  {
   "cell_type": "code",
   "execution_count": null,
   "metadata": {},
   "outputs": [],
   "source": [
    "problem = get_problem(\"zdt3\")\n",
    "plot(problem.pareto_front(), no_fill=True)"
   ]
  },
  {
   "cell_type": "code",
   "execution_count": null,
   "metadata": {},
   "outputs": [],
   "source": [
    "problem = get_problem(\"mw7\")\n",
    "plot(problem.pareto_front(), no_fill=True)"
   ]
  },
  {
   "cell_type": "code",
   "execution_count": null,
   "metadata": {},
   "outputs": [],
   "source": [
    "ref_dirs = get_reference_directions(\"das-dennis\", 3, n_partitions=12)\n",
    "problem = get_problem(\"mw14\").pareto_front()\n",
    "Scatter(angle=(45,45)).add(problem, color=\"red\").show()"
   ]
  },
  {
   "cell_type": "code",
   "execution_count": null,
   "metadata": {},
   "outputs": [],
   "source": [
    "class TSPProblem(Problem):\n",
    "    def __init__(self, n_cities, seed=50):\n",
    "        # Define the number of variables (cities) and objectives (time and distance)\n",
    "        super().__init__(n_var=n_cities, n_obj=2, n_constr=0, xl=0, xu=1)\n",
    "        \n",
    "        # Initialize the random seed for reproducibility\n",
    "        if seed is not None:\n",
    "            np.random.seed(seed)\n",
    "        \n",
    "        # Generate random distances and times between cities\n",
    "        self.distances = np.random.uniform(0, 100, size=(n_cities, n_cities))\n",
    "        self.distances = (self.distances + self.distances.T) / 2\n",
    "        self.times = np.random.uniform(0, 300, size=(n_cities, n_cities))\n",
    "        random.seed(None)\n",
    "        \n",
    "        # Ensure the diagonal is zero (distance/time from a city to itself is zero)\n",
    "        np.fill_diagonal(self.distances, 0)\n",
    "        np.fill_diagonal(self.times, 0)\n",
    "\n",
    "    def _evaluate(self, x, out, *args, **kwargs):\n",
    "        # Calculate the total distance and time for each solution in x\n",
    "        distances = []\n",
    "        times = []\n",
    "        \n",
    "        for route in x:\n",
    "            perm = np.argsort(route)\n",
    "            total_distance = 0\n",
    "            total_time = 0\n",
    "            \n",
    "            for i in range(len(perm) - 1):\n",
    "                total_distance += self.distances[perm[i], perm[i+1]]\n",
    "                total_time += self.times[perm[i], perm[i+1]]\n",
    "            \n",
    "            # Add distance and time from last city back to the first city\n",
    "            total_distance += self.distances[perm[-1], perm[0]]\n",
    "            total_time += self.times[perm[-1], perm[0]]\n",
    "            \n",
    "            distances.append(total_distance)\n",
    "            times.append(total_time)\n",
    "        \n",
    "        out[\"F\"] = np.column_stack([distances, times])"
   ]
  },
  {
   "cell_type": "markdown",
   "metadata": {},
   "source": [
    "Comprobación del funcionamiento del algoritmo NSGA2 para las funciones continuas"
   ]
  },
  {
   "cell_type": "code",
   "execution_count": null,
   "metadata": {},
   "outputs": [],
   "source": [
    "problem = get_problem(\"mw14\", n_var = 30)\n",
    "print(problem.n_var)\n",
    "print(problem.n_obj)\n",
    "print(problem.xl)\n",
    "print(problem.xu)\n"
   ]
  },
  {
   "cell_type": "code",
   "execution_count": null,
   "metadata": {},
   "outputs": [],
   "source": [
    "algorithm = NSGA2(pop_size=100)\n",
    "res = minimize(problem,\n",
    "               algorithm,\n",
    "               ('n_gen', 100),\n",
    "               verbose=False)"
   ]
  },
  {
   "cell_type": "code",
   "execution_count": null,
   "metadata": {},
   "outputs": [],
   "source": [
    "scatter = Scatter()\n",
    "scatter.add(problem.pareto_front(), label=\"Pareto optimo\")\n",
    "scatter.add(res.F, label=\"NSGA2_100gen\")\n",
    "scatter.legend=True\n",
    "scatter.show()"
   ]
  },
  {
   "cell_type": "markdown",
   "metadata": {},
   "source": [
    "Comprobación del funcionamiento del algoritmo NSGA2 para el TSPMO"
   ]
  },
  {
   "cell_type": "code",
   "execution_count": null,
   "metadata": {},
   "outputs": [],
   "source": [
    "problem = TSPProblem(100)\n",
    "print(np.shape(problem.distances))\n",
    "print(np.shape(problem.times))"
   ]
  },
  {
   "cell_type": "code",
   "execution_count": null,
   "metadata": {},
   "outputs": [],
   "source": [
    "algorithm = NSGA2(pop_size=100)\n",
    "res = minimize(problem,\n",
    "               algorithm,\n",
    "               ('n_gen', 10),\n",
    "               verbose=False)\n",
    "res2 = minimize(problem,\n",
    "               algorithm,\n",
    "               ('n_gen', 100),\n",
    "               verbose=False)"
   ]
  },
  {
   "cell_type": "code",
   "execution_count": null,
   "metadata": {},
   "outputs": [],
   "source": [
    "scatter = Scatter()\n",
    "scatter.add(res.F, label=\"NSGA2_10\")\n",
    "scatter.add(res2.F, label=\"NSGA2_100\")\n",
    "scatter.legend=True\n",
    "scatter.show()\n"
   ]
  }
 ],
 "metadata": {
  "kernelspec": {
   "display_name": "base",
   "language": "python",
   "name": "python3"
  },
  "language_info": {
   "codemirror_mode": {
    "name": "ipython",
    "version": 3
   },
   "file_extension": ".py",
   "mimetype": "text/x-python",
   "name": "python",
   "nbconvert_exporter": "python",
   "pygments_lexer": "ipython3",
   "version": "3.12.3"
  }
 },
 "nbformat": 4,
 "nbformat_minor": 2
}
