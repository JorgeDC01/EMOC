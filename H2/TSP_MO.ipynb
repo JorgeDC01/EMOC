{
 "cells": [
  {
   "cell_type": "markdown",
   "metadata": {},
   "source": [
    "# **TSP MO** Problem"
   ]
  },
  {
   "cell_type": "code",
   "execution_count": 16,
   "metadata": {},
   "outputs": [
    {
     "name": "stdout",
     "output_type": "stream",
     "text": [
      "Note: you may need to restart the kernel to use updated packages.\n"
     ]
    }
   ],
   "source": [
    "%pip install pymoo --quiet"
   ]
  },
  {
   "cell_type": "code",
   "execution_count": 42,
   "metadata": {},
   "outputs": [],
   "source": [
    "import numpy as np\n",
    "import random\n",
    "from pymoo.core.problem import Problem\n",
    "from pymoo.problems import get_problem\n",
    "from pymoo.util.plotting import plot\n",
    "from pymoo.util.ref_dirs import get_reference_directions\n",
    "from pymoo.visualization.scatter import Scatter\n",
    "from pymoo.termination import get_termination\n",
    "from pymoo.algorithms.moo.nsga2 import NSGA2\n",
    "from pymoo.optimize import minimize\n",
    "\n",
    "import matplotlib.pyplot as plt\n",
    "\n",
    "import pandas as pd\n",
    "pd.set_option('display.float_format', '{:.4f}'.format)"
   ]
  },
  {
   "cell_type": "markdown",
   "metadata": {},
   "source": [
    "## Definición del **Problema**\n",
    "*problema implementado en el notebook \"hito2-alumno\" del moddle*"
   ]
  },
  {
   "cell_type": "code",
   "execution_count": 43,
   "metadata": {},
   "outputs": [],
   "source": [
    "'''\n",
    "# n_var: Número de variables (ciudades en este caso).\n",
    "# n_obj: Número de objetivos (distancia total y tiempo total).\n",
    "# n_constr: Número de restricciones (cero aquí).\n",
    "# xl: Límite inferior para las variables de decisión (0).\n",
    "# xu: Límite superior para las variables de decisión (1).\n",
    "'''\n",
    "\n",
    "class TSPProblem(Problem):\n",
    "    def __init__(self, n_cities, seed=50):\n",
    "        # Define the number of variables (cities) and objectives (time and distance)\n",
    "        super().__init__(n_var=n_cities, n_obj=2, n_constr=0, xl=0, xu=1)\n",
    "        \n",
    "        # Initialize the random seed for reproducibility\n",
    "        if seed is not None:\n",
    "            np.random.seed(seed)\n",
    "        \n",
    "        # Generate random distances and times between cities. Asegura que la matriz de distancias sea simétrica\n",
    "        self.distances = np.random.uniform(0, 100, size=(n_cities, n_cities))\n",
    "        self.distances = (self.distances + self.distances.T) / 2 \n",
    "        self.times = np.random.uniform(0, 300, size=(n_cities, n_cities))\n",
    "        random.seed(None)\n",
    "        \n",
    "        # Ensure the diagonal is zero (distance/time from a city to itself is zero)\n",
    "        np.fill_diagonal(self.distances, 0)\n",
    "        np.fill_diagonal(self.times, 0)\n",
    "\n",
    "    ''' Calcula los objetivos (distancia total y tiempo total) para las soluciones propuestas en x. En x, cada fila es una solución codificada. '''\n",
    "    def _evaluate(self, x, out, *args, **kwargs):\n",
    "        # Calculate the total distance and time for each solution in x\n",
    "        distances = []\n",
    "        times = []\n",
    "        \n",
    "        for route in x:\n",
    "            perm = np.argsort(route)\n",
    "            total_distance = 0\n",
    "            total_time = 0\n",
    "            \n",
    "            for i in range(len(perm) - 1):\n",
    "                total_distance += self.distances[perm[i], perm[i+1]]\n",
    "                total_time += self.times[perm[i], perm[i+1]]\n",
    "            \n",
    "            # Add distance and time from last city back to the first city\n",
    "            total_distance += self.distances[perm[-1], perm[0]]\n",
    "            total_time += self.times[perm[-1], perm[0]]\n",
    "            \n",
    "            distances.append(total_distance)\n",
    "            times.append(total_time)\n",
    "        \n",
    "        out[\"F\"] = np.column_stack([distances, times])"
   ]
  },
  {
   "cell_type": "markdown",
   "metadata": {},
   "source": [
    "## Diseño de la **Fase de Evaluación**\n",
    "\n",
    "Inicialmente se diseña una fase de evaluación con **10 experimentos**, calculándose las métricas: [**Hipervolumen, Dispersión (SPR), Espaciado (SPA)**].\n",
    "\n",
    "En la elección del mejor Frente de Pareto, se usa el hipervolumen."
   ]
  },
  {
   "cell_type": "code",
   "execution_count": 44,
   "metadata": {},
   "outputs": [],
   "source": [
    "from pymoo.indicators.hv import Hypervolume\n",
    "import numpy as np\n",
    "\n",
    "\n",
    "def calculate_metrics(front, ref_point):\n",
    "    \"\"\" Calcula las métricas: hipervolumen, dispersión (SPR) y espaciado (SPA). \"\"\"\n",
    "    metricHV = Hypervolume(ref_point)\n",
    "    \n",
    "    hv = metricHV.do(front)\n",
    "\n",
    "    # Dispersión: Diagonal de la hipercaja que contiene el frente\n",
    "    min_values = np.min(front, axis=0)\n",
    "    max_values = np.max(front, axis=0)\n",
    "    spr = np.linalg.norm(max_values - min_values)\n",
    "\n",
    "    # Espaciado: Distancia promedio entre puntos del frente\n",
    "    d = np.linalg.norm(front[:, None, :] - front[None, :, :], axis=-1)  \n",
    "    spa = np.mean(np.min(d + np.diag(np.inf * np.ones(len(d))), axis=1))  \n",
    "    return hv, spr, spa"
   ]
  },
  {
   "cell_type": "code",
   "execution_count": 48,
   "metadata": {},
   "outputs": [],
   "source": [
    "'''\n",
    "    Ejecuta múltiples experimentos dado un problema y un algoritmo de optimización multi-objetivo. Se le pasa el punto de referencia del hipervolumen,\n",
    "    el número de experimentos y el número de generaciones. El criterio de selección del mejor frente de pareto se puede modificar. Por defecto, se hace según \n",
    "    el hipervolumen. \n",
    "\n",
    "    @return\n",
    "        - best_individual_ frnete_pareto [[distance1, time1], [distance2, time2], ...], \n",
    "        - metrics_summary: resumen de metricas de los 10 experimentos\n",
    "        - ref_point: punto de referencia sobre el hipervolumen. Con este punto de referencia se calcula el hipervolumen del frente de pareto del algoritmo NSGA2 a superar\n",
    "\n",
    "'''\n",
    "def multiple_experiments_with_metrics(problem, algorithm, n_gens, ref_point, num_experiments=10, termination=get_termination(\"n_eval\", 100000)):\n",
    "    best_individual = None\n",
    "    best_hypervolume = -float('inf')  # el signo negativo para maximizar el hipervolumen\n",
    "    metrics_summary = []\n",
    "\n",
    "    for i in range(num_experiments):   \n",
    "        # NUESTRO ALGORITMO\n",
    "        res = minimize(problem, algorithm, ('n_gen', n_gens), verbose=False)\n",
    "\n",
    "        front = res.F # frente de pareto\n",
    "        if front is None:\n",
    "            continue\n",
    "\n",
    "        if i == 0:\n",
    "            # El ref_point, tras el primer experimento, es el mismo incrementado por 1.3\n",
    "            ref_point = np.max(front, axis=0) * 1.3  # un pequeño incremento sobre el máximo para el punto de referencia\n",
    "\n",
    "        hv, spr, spa = calculate_metrics(front, ref_point)\n",
    "        metrics_summary.append((hv, spr, spa))\n",
    "\n",
    "        print(f\"Ejecución {i+1}:  Hipervolumen: {hv:.4f}, Dispersión (SPR): {spr:.4f}, Espaciado (SPA): {spa:.4f}\")\n",
    "\n",
    "        # selecciona el mejor frente según un criterio (en este caso, hipervolumen: SE PUEDE CAMBIAR)\n",
    "        if hv > best_hypervolume:\n",
    "            best_hypervolume = hv\n",
    "            best_individual = res.F\n",
    "\n",
    "    # Promedios y desviaciones estándar de las métricas\n",
    "    metrics_summary = np.array(metrics_summary)\n",
    "    mean_metrics = np.mean(metrics_summary, axis=0)\n",
    "    std_metrics = np.std(metrics_summary, axis=0)\n",
    "\n",
    "    print(\"\\n--- Resumen de Métricas ---\")\n",
    "    print(f\"Promedio de Hipervolumen: {mean_metrics[0]:.4f} ± {std_metrics[0]:.4f}\")\n",
    "    print(f\"Promedio de Dispersión (SPR): {mean_metrics[1]:.4f} ± {std_metrics[1]:.4f}\")\n",
    "    print(f\"Promedio de Espaciado (SPA): {mean_metrics[2]:.4f} ± {std_metrics[2]:.4f}\")\n",
    "\n",
    "    return best_individual, metrics_summary, ref_point"
   ]
  },
  {
   "cell_type": "markdown",
   "metadata": {},
   "source": [
    "## Algoritmo 1-prueba\n",
    "*NSGA2 con 10 generaciones comparado con el objetivo*"
   ]
  },
  {
   "cell_type": "code",
   "execution_count": 50,
   "metadata": {},
   "outputs": [
    {
     "name": "stdout",
     "output_type": "stream",
     "text": [
      "Ejecución 1:  Hipervolumen: 8514225.9322, Dispersión (SPR): 1095.9471, Espaciado (SPA): 166.6351\n",
      "Ejecución 2:  Hipervolumen: 9343893.3913, Dispersión (SPR): 1931.6147, Espaciado (SPA): 247.8108\n",
      "Ejecución 3:  Hipervolumen: 9756044.6471, Dispersión (SPR): 2051.9999, Espaciado (SPA): 383.2141\n",
      "Ejecución 4:  Hipervolumen: 8463808.0315, Dispersión (SPR): 3603.5500, Espaciado (SPA): 327.6731\n",
      "Ejecución 5:  Hipervolumen: 9404503.1021, Dispersión (SPR): 3465.2864, Espaciado (SPA): 414.8075\n",
      "Ejecución 6:  Hipervolumen: 8039777.4406, Dispersión (SPR): 2258.6333, Espaciado (SPA): 221.1381\n",
      "Ejecución 7:  Hipervolumen: 8038112.8294, Dispersión (SPR): 4335.1995, Espaciado (SPA): 296.2083\n",
      "Ejecución 8:  Hipervolumen: 7969441.8765, Dispersión (SPR): 4363.4372, Espaciado (SPA): 569.6303\n",
      "Ejecución 9:  Hipervolumen: 8418154.5083, Dispersión (SPR): 3865.4372, Espaciado (SPA): 241.1742\n",
      "Ejecución 10:  Hipervolumen: 8676979.0233, Dispersión (SPR): 2178.7976, Espaciado (SPA): 346.6593\n",
      "\n",
      "--- Resumen de Métricas ---\n",
      "Promedio de Hipervolumen: 8662494.0782 ± 599170.7435\n",
      "Promedio de Dispersión (SPR): 2914.9903 ± 1085.7608\n",
      "Promedio de Espaciado (SPA): 321.4951 ± 110.1510\n",
      "\n",
      "                 Hipervolumen  Dispersión (SPR)  Espaciado (SPA)\n",
      "Mejor Solución  9756044.6471         2051.9999         383.2141\n",
      "NSGA2 a Batir  22565675.4780         4395.9183          59.3326\n"
     ]
    },
    {
     "data": {
      "image/png": "[encoded data removed]",
      "text/plain": [
       "<Figure size 640x480 with 1 Axes>"
      ]
     },
     "metadata": {},
     "output_type": "display_data"
    }
   ],
   "source": [
    "problem = TSPProblem(100)\n",
    "algorithm = NSGA2(pop_size=100)\n",
    "ref_point = [20000, 50000]\n",
    "\n",
    "# NUESTRO ALGORITMO\n",
    "best_solution, metrics_summary, ref_point = multiple_experiments_with_metrics(problem, algorithm, n_gens=10, ref_point=ref_point, num_experiments=10)\n",
    "# ALGORITMO NSGA2 A BATIR\n",
    "res_obj = minimize(problem, algorithm, ('n_gen', 100), verbose=False) # Algoritmo de optimización a batir\n",
    "\n",
    "hv, spr, spa = calculate_metrics(best_solution, ref_point)\n",
    "hv_obj, spr_obj, spa_obj = calculate_metrics(res_obj.F, ref_point)\n",
    "\n",
    "data = {'Hipervolumen': [hv, hv_obj], 'Dispersión (SPR)': [spr, spr_obj], 'Espaciado (SPA)': [spa, spa_obj]}\n",
    "\n",
    "df = pd.DataFrame(data, index=['Mejor Solución', 'NSGA2 a Batir'])\n",
    "print(f\"\\n {df}\")\n",
    "\n",
    "#########################################################\n",
    "######################## Gráfica ########################\n",
    "#########################################################\n",
    "\n",
    "sorted_res = best_solution[np.argsort(best_solution[:, 0])]\n",
    "sorted_res2 = res_obj.F[np.argsort(res_obj.F[:, 0])]\n",
    "\n",
    "# líneas que conectan los puntos de NSGA2_10 y NSGA2_100\n",
    "plt.plot(sorted_res[:, 0], sorted_res[:, 1], color=\"blue\", alpha=0.7, label=\"Connected NSGA2_10\")\n",
    "plt.plot(sorted_res2[:, 0], sorted_res2[:, 1], color=\"orange\", alpha=0.7, label=\"Connected NSGA2_100\")\n",
    "\n",
    "plt.scatter(best_solution[:, 0], best_solution[:, 1], s=30, facecolors='none', edgecolors='blue')\n",
    "plt.scatter(res_obj.F[:, 0], res_obj.F[:, 1], s=30, facecolors='none', edgecolors='orange')\n",
    "\n",
    "# Rellena los puntos scatter con color\n",
    "# plt.scatter(best_solution[:, 0], best_solution[:, 1], s=30, c='blue', edgecolors='blue')\n",
    "# plt.scatter(res_obj.F[:, 0], res_obj.F[:, 1], s=30, c='orange', edgecolors='orange')\n",
    "\n",
    "plt.xlabel('f1 (distancia)', fontsize=12)\n",
    "plt.ylabel('f2 (tiempo)', fontsize=12)\n",
    "plt.legend()\n",
    "\n",
    "plt.show()"
   ]
  }
 ],
 "metadata": {
  "kernelspec": {
   "display_name": "base",
   "language": "python",
   "name": "python3"
  },
  "language_info": {
   "codemirror_mode": {
    "name": "ipython",
    "version": 3
   },
   "file_extension": ".py",
   "mimetype": "text/x-python",
   "name": "python",
   "nbconvert_exporter": "python",
   "pygments_lexer": "ipython3",
   "version": "3.12.3"
  }
 },
 "nbformat": 4,
 "nbformat_minor": 2
}
